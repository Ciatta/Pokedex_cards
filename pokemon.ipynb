{
  "nbformat": 4,
  "nbformat_minor": 0,
  "metadata": {
    "colab": {
      "provenance": [],
      "authorship_tag": "ABX9TyOCEY0cvnKWQIWqA1Zye9j+",
      "include_colab_link": true
    },
    "kernelspec": {
      "name": "python3",
      "display_name": "Python 3"
    },
    "language_info": {
      "name": "python"
    }
  },
  "cells": [
    {
      "cell_type": "markdown",
      "metadata": {
        "id": "view-in-github",
        "colab_type": "text"
      },
      "source": [
        "<a href=\"https://colab.research.google.com/github/Ciatta/Pokedex_cards/blob/main/pokemon.ipynb\" target=\"_parent\"><img src=\"https://colab.research.google.com/assets/colab-badge.svg\" alt=\"Open In Colab\"/></a>"
      ]
    },
    {
      "cell_type": "code",
      "source": [
        "!pip install git+https://github.com/arnavb/pypokedex.git@master"
      ],
      "metadata": {
        "colab": {
          "base_uri": "https://localhost:8080/"
        },
        "id": "3SYfBUiffCmR",
        "outputId": "3e0d64c5-78a3-4528-ab44-eed8a59d5feb"
      },
      "execution_count": 16,
      "outputs": [
        {
          "output_type": "stream",
          "name": "stdout",
          "text": [
            "Collecting git+https://github.com/arnavb/pypokedex.git@master\n",
            "  Cloning https://github.com/arnavb/pypokedex.git (to revision master) to /tmp/pip-req-build-un8i07wu\n",
            "  Running command git clone --filter=blob:none --quiet https://github.com/arnavb/pypokedex.git /tmp/pip-req-build-un8i07wu\n",
            "  Resolved https://github.com/arnavb/pypokedex.git to commit 5e7e873672afae17b2df7fd888daffc6c4aa0a0e\n",
            "  Installing build dependencies ... \u001b[?25l\u001b[?25hdone\n",
            "  Getting requirements to build wheel ... \u001b[?25l\u001b[?25hdone\n",
            "  Preparing metadata (pyproject.toml) ... \u001b[?25l\u001b[?25hdone\n",
            "Requirement already satisfied: requests<3.0.0,>=2.21.0 in /usr/local/lib/python3.10/dist-packages (from pypokedex==1.6.0) (2.32.3)\n",
            "Requirement already satisfied: charset-normalizer<4,>=2 in /usr/local/lib/python3.10/dist-packages (from requests<3.0.0,>=2.21.0->pypokedex==1.6.0) (3.3.2)\n",
            "Requirement already satisfied: idna<4,>=2.5 in /usr/local/lib/python3.10/dist-packages (from requests<3.0.0,>=2.21.0->pypokedex==1.6.0) (3.7)\n",
            "Requirement already satisfied: urllib3<3,>=1.21.1 in /usr/local/lib/python3.10/dist-packages (from requests<3.0.0,>=2.21.0->pypokedex==1.6.0) (2.0.7)\n",
            "Requirement already satisfied: certifi>=2017.4.17 in /usr/local/lib/python3.10/dist-packages (from requests<3.0.0,>=2.21.0->pypokedex==1.6.0) (2024.7.4)\n"
          ]
        }
      ]
    },
    {
      "cell_type": "code",
      "execution_count": 67,
      "metadata": {
        "colab": {
          "base_uri": "https://localhost:8080/"
        },
        "id": "G-oD348ZejUQ",
        "outputId": "11dd1c9f-3d66-4769-a0fb-6bbad60eba6f"
      },
      "outputs": [
        {
          "output_type": "stream",
          "name": "stdout",
          "text": [
            "(37, ['vulpix', 37, 2, 1])\n",
            "(38, ['ninetales', 38, 2, 2])\n",
            "(58, ['growlithe', 58, 3, 4])\n",
            "(97, ['hypno', 97, 5, 7])\n",
            "(100, ['voltorb', 100, 5, 10])\n",
            "(131, ['lapras', 131, 7, 5])\n",
            "(147, ['dratini', 147, 8, 3])\n",
            "(148, ['dragonair', 148, 8, 4])\n",
            "(185, ['sudowoodo', 185, 10, 5])\n",
            "(188, ['skiploom', 188, 10, 8])\n",
            "(194, ['wooper', 194, 10, 14])\n",
            "(206, ['dunsparce', 206, 11, 8])\n",
            "(207, ['gligar', 207, 11, 9])\n",
            "(209, ['snubbull', 209, 11, 11])\n",
            "(241, ['miltank', 241, 13, 7])\n",
            "(244, ['entei', 244, 13, 10])\n",
            "(264, ['linoone', 264, 14, 12])\n",
            "(284, ['masquerain', 284, 15, 14])\n",
            "(303, ['mawile', 303, 16, 15])\n",
            "(311, ['plusle', 311, 17, 5])\n",
            "(322, ['numel', 322, 17, 16])\n",
            "(323, ['camerupt', 323, 17, 17])\n",
            "(343, ['baltoy', 343, 19, 1])\n",
            "(344, ['claydol', 344, 19, 2])\n",
            "(349, ['feebas', 349, 19, 7])\n",
            "(357, ['tropius', 357, 19, 15])\n",
            "(436, ['bronzor', 436, 24, 4])\n",
            "(437, ['bronzong', 437, 24, 5])\n",
            "(468, ['togekiss', 468, 25, 18])\n",
            "(471, ['glaceon', 471, 26, 3])\n",
            "(474, ['porygon-z', 474, 26, 6])\n",
            "(509, ['purrloin', 509, 28, 5])\n",
            "(529, ['drilbur', 529, 29, 7])\n",
            "(554, ['darumaka', 554, 30, 14])\n",
            "(566, ['archen', 566, 31, 8])\n",
            "(580, ['ducklett', 580, 32, 4])\n",
            "(587, ['emolga', 587, 32, 11])\n",
            "(590, ['foongus', 590, 32, 14])\n",
            "(599, ['klink', 599, 33, 5])\n",
            "(614, ['beartic', 614, 34, 2])\n",
            "(638, ['cobalion', 638, 35, 8])\n",
            "(657, ['frogadier', 657, 36, 9])\n",
            "(662, ['fletchinder', 662, 36, 14])\n",
            "(680, ['doublade', 680, 37, 14])\n",
            "(695, ['heliolisk', 695, 38, 11])\n",
            "(708, ['phantump', 708, 39, 6])\n",
            "(709, ['trevenant', 709, 39, 7])\n",
            "(767, ['wimpod', 767, 42, 11])\n",
            "(770, ['palossand', 770, 42, 14])\n",
            "(777, ['togedemaru', 777, 43, 3])\n",
            "(808, ['meltan', 808, 44, 16])\n",
            "(824, ['blipbug', 824, 45, 14])\n",
            "(827, ['nickit', 827, 45, 17])\n",
            "(887, ['dragapult', 887, 49, 5])\n",
            "(909, ['fuecoco', 909, 50, 9])\n",
            "(910, ['crocalor', 910, 50, 10])\n",
            "(936, ['armarouge', 936, 51, 18])\n",
            "(942, ['maschiff', 942, 52, 6])\n",
            "(951, ['capsakid', 951, 52, 15])\n",
            "(955, ['flittle', 955, 53, 1])\n",
            "(971, ['greavard', 971, 53, 17])\n",
            "(973, ['flamigo', 973, 54, 1])\n",
            "(977, ['dondozo', 977, 54, 5])\n",
            "(985, ['scream-tail', 985, 54, 13])\n",
            "(994, ['iron-moth', 994, 55, 4])\n",
            "(1002, ['chien-pao', 1002, 55, 12])\n",
            "(1003, ['ting-lu', 1003, 55, 13])\n",
            "(1011, ['dipplin', 1011, 56, 3])\n",
            "------------------------------\n",
            "TOT 68\n"
          ]
        }
      ],
      "source": [
        "import pypokedex\n",
        "import json\n",
        "\n",
        "# cards to add\n",
        "name_list = []\n",
        "dex_list = []\n",
        "\n",
        "# load pokedex\n",
        "with open('pokedex.json') as json_file:\n",
        "    pokedex = json.load(json_file)\n",
        "# changes keys to int\n",
        "pokedex2={}\n",
        "for key in pokedex.keys():\n",
        "  pokedex2[int(key)] = pokedex[key]\n",
        "pokedex=pokedex2\n",
        "\n",
        "# add cards\n",
        "for NAME in name_list:\n",
        "  pokemon = pypokedex.get(name=NAME)\n",
        "  if (pokemon.dex%18 == 0): pokedex[int(pokemon.dex)]=[pokemon.name, pokemon.dex, pokemon.dex//18-1, 18]\n",
        "  else: pokedex[int(pokemon.dex)]=[pokemon.name, pokemon.dex, pokemon.dex//18, pokemon.dex%18]\n",
        "for DEX in dex_list:\n",
        "  pokemon = pypokedex.get(dex=DEX)\n",
        "  if (pokemon.dex%18 == 0): pokedex[int(pokemon.dex)]=[pokemon.name, pokemon.dex, pokemon.dex//18-1, 18]\n",
        "  else: pokedex[int(pokemon.dex)]=[pokemon.name, pokemon.dex, pokemon.dex//18, pokemon.dex%18]\n",
        "\n",
        "\n",
        "# sort and print\n",
        "pokedex = dict(sorted(pokedex.items()))\n",
        "for pokemon in pokedex.items():\n",
        "  print(pokemon)\n",
        "print('------------------------------')\n",
        "print('TOT ' + str(len(pokedex.items())))\n",
        "\n",
        "# save pokedex\n",
        "with open(\"pokedex.json\", \"w\") as fp:\n",
        "    json.dump(pokedex, fp)\n"
      ]
    }
  ]
}