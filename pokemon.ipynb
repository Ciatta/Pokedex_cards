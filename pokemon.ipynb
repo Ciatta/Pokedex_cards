{
  "nbformat": 4,
  "nbformat_minor": 0,
  "metadata": {
    "colab": {
      "provenance": [],
      "authorship_tag": "ABX9TyOXtDTZ4rAbTWAimhwYva5b",
      "include_colab_link": true
    },
    "kernelspec": {
      "name": "python3",
      "display_name": "Python 3"
    },
    "language_info": {
      "name": "python"
    }
  },
  "cells": [
    {
      "cell_type": "markdown",
      "metadata": {
        "id": "view-in-github",
        "colab_type": "text"
      },
      "source": [
        "<a href=\"https://colab.research.google.com/github/Ciatta/Pokedex_cards/blob/main/pokemon.ipynb\" target=\"_parent\"><img src=\"https://colab.research.google.com/assets/colab-badge.svg\" alt=\"Open In Colab\"/></a>"
      ]
    },
    {
      "cell_type": "code",
      "source": [
        "!pip install git+https://github.com/arnavb/pypokedex.git@master"
      ],
      "metadata": {
        "id": "3SYfBUiffCmR"
      },
      "execution_count": null,
      "outputs": []
    },
    {
      "cell_type": "code",
      "execution_count": null,
      "metadata": {
        "id": "G-oD348ZejUQ"
      },
      "outputs": [],
      "source": [
        "import pypokedex\n",
        "import json\n",
        "\n",
        "# cards to add\n",
        "size = 18\n",
        "name_list = []\n",
        "dex_list = []\n",
        "\n",
        "# load pokedex\n",
        "with open('pokedex.json') as json_file:\n",
        "    pokedex = json.load(json_file)\n",
        "# changes keys to int\n",
        "pokedex2={}\n",
        "for key in pokedex.keys():\n",
        "  pokedex2[int(key)] = pokedex[key]\n",
        "pokedex=pokedex2\n",
        "\n",
        "# add cards\n",
        "for NAME in name_list:\n",
        "  pokemon = pypokedex.get(name=NAME)\n",
        "  if (pokemon.dex%18 == 0): pokedex[int(pokemon.dex)]=[pokemon.name, pokemon.dex, pokemon.dex//size-1, size]\n",
        "  else: pokedex[int(pokemon.dex)]=[pokemon.name, pokemon.dex, pokemon.dex//size, pokemon.dex%size]\n",
        "for DEX in dex_list:\n",
        "  pokemon = pypokedex.get(dex=DEX)\n",
        "  if (pokemon.dex%18 == 0): pokedex[int(pokemon.dex)]=[pokemon.name, pokemon.dex, pokemon.dex//size-1, size]\n",
        "  else: pokedex[int(pokemon.dex)]=[pokemon.name, pokemon.dex, pokemon.dex//size, pokemon.dex%size]\n",
        "\n",
        "\n",
        "# sort and print\n",
        "pokedex = dict(sorted(pokedex.items()))\n",
        "for pokemon in pokedex.items():\n",
        "  print(pokemon)\n",
        "print('------------------------------')\n",
        "print('TOT ' + str(len(pokedex.items())))\n",
        "\n",
        "# save pokedex\n",
        "with open(\"pokedex.json\", \"w\") as fp:\n",
        "    json.dump(pokedex, fp)\n"
      ]
    }
  ]
}